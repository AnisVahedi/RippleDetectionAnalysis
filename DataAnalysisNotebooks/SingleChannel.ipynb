{
 "cells": [
  {
   "cell_type": "code",
   "execution_count": 1,
   "metadata": {},
   "outputs": [
    {
     "name": "stderr",
     "output_type": "stream",
     "text": [
      "/home/shayok/anaconda3/lib/python3.5/importlib/_bootstrap.py:222: RuntimeWarning: numpy.dtype size changed, may indicate binary incompatibility. Expected 96, got 88\n",
      "  return f(*args, **kwds)\n",
      "/home/shayok/anaconda3/lib/python3.5/importlib/_bootstrap.py:222: RuntimeWarning: numpy.dtype size changed, may indicate binary incompatibility. Expected 96, got 88\n",
      "  return f(*args, **kwds)\n",
      "/home/shayok/anaconda3/lib/python3.5/importlib/_bootstrap.py:222: RuntimeWarning: numpy.dtype size changed, may indicate binary incompatibility. Expected 96, got 88\n",
      "  return f(*args, **kwds)\n",
      "/home/shayok/anaconda3/lib/python3.5/importlib/_bootstrap.py:222: RuntimeWarning: numpy.dtype size changed, may indicate binary incompatibility. Expected 96, got 88\n",
      "  return f(*args, **kwds)\n"
     ]
    }
   ],
   "source": [
    "#imports\n",
    "import numpy as np\n",
    "import pandas as pd\n",
    "from tqdm import tqdm\n",
    "import scipy.signal as signal #signal processing stuff (e.g. filters, hilbert transform, etc.)\n",
    "from scipy.stats import linregress\n",
    "import scipy\n",
    "import struct\n",
    "import os\n",
    "import matplotlib as mpl\n",
    "import matplotlib.pyplot as plt\n",
    "import matplotlib.gridspec as gridspec\n",
    "from mpl_toolkits.mplot3d import Axes3D\n",
    "import seaborn as sns\n",
    "from mpl_toolkits.axes_grid1.inset_locator import zoomed_inset_axes\n",
    "from mpl_toolkits.axes_grid1.inset_locator import inset_axes\n",
    "from mpl_toolkits.axes_grid1.inset_locator import mark_inset\n",
    "import svgutils.transform as sg\n",
    "import sys\n",
    "\n",
    "#nelpy!\n",
    "import nelpy as nel  #recommended import for nelpy\n",
    "import nelpy.plotting as npl  #recommended import for the nelpy plotting library\n",
    "import nelpy.io.trodes as neltro\n",
    "\n",
    "#I saved my online ripple detection filter taps and stuff in a file....gonna import this for all analysis\n",
    "import imp\n",
    "ripple_filtering = imp.load_source('ripple_filtering', '/home/shayok/Documents/Code/RippleDetectionAnalysis/Cavaradossi/DataAnalysisScripts/ripple_filtering.py')"
   ]
  },
  {
   "cell_type": "code",
   "execution_count": 2,
   "metadata": {
    "collapsed": true
   },
   "outputs": [],
   "source": [
    "#paper plot settings\n",
    "sns.set(rc={'figure.figsize': (12, 4),'lines.linewidth': 1, 'font.size': 18, 'axes.labelsize': 16, 'axes.titlesize':18, 'legend.fontsize': 12, 'ytick.labelsize': 12, 'xtick.labelsize': 12 })\n",
    "sns.set_style('white')\n",
    "sns.set_color_codes(palette='colorblind')\n",
    "#plots show up within jupyter for matplotlib\n",
    "%matplotlib inline "
   ]
  },
  {
   "cell_type": "markdown",
   "metadata": {},
   "source": [
    "# Load and save data into txt files"
   ]
  },
  {
   "cell_type": "code",
   "execution_count": 3,
   "metadata": {},
   "outputs": [
    {
     "name": "stdout",
     "output_type": "stream",
     "text": [
      "*****************Loading LFP Timestamps*****************\n",
      "b'<Start settings>\\n'\n",
      "b'Description: LFP timestamps\\n'\n",
      "b'Byte_order: little endian\\n'\n",
      "b'Original_file: singleChan.rec\\n'\n",
      "b'Clock rate: 30000\\n'\n",
      "b'Decimation: 1\\n'\n",
      "b'Time_offset: 0\\n'\n",
      "b'Fields: <time uint32>\\n'\n",
      "Current file position 185\n",
      "Done!\n",
      "*****************Loading LFP Data*****************\n",
      "b'<Start settings>\\n'\n",
      "b'Description: LFP data for one channel\\n'\n",
      "b'Byte_order: little endian\\n'\n",
      "b'Original_file: singleChan.rec\\n'\n",
      "b'nTrode_ID: 2\\n'\n",
      "b'nTrode_channel: 1\\n'\n",
      "b'Clock rate: 30000\\n'\n",
      "b'Voltage_scaling: 0.195\\n'\n",
      "b'Decimation: 1\\n'\n",
      "b'First_timestamp: 19935\\n'\n",
      "b'Reference: on\\n'\n",
      "b'Low_pass_filter: 400\\n'\n",
      "b'Fields: <voltage int16>\\n'\n",
      "Current file position 294\n",
      "19940\n",
      "Data decimated to match data sent to modules\n"
     ]
    }
   ],
   "source": [
    "FS=3000\n",
    "FS_system = 30000\n",
    "#din 11 for tetrode 3 channel 1 recordings\n",
    "\n",
    "#Load Timestamps\n",
    "filePath = \"/home/shayok/Documents/Code/RippleDetectionAnalysis/Cavaradossi/paperData/singleChan.LFP/singleChan.timestamps.dat\"\n",
    "print(\"*****************Loading LFP Timestamps*****************\")\n",
    "f = open(filePath,'rb')\n",
    "instr = f.readline()\n",
    "while (instr != b'<End settings>\\n') :\n",
    "   print(instr)\n",
    "   instr = f.readline()\n",
    "print('Current file position', f.tell())\n",
    "timeStamps = np.fromfile(f, dtype=np.uint32)\n",
    "timeStampsSeconds = (timeStamps-timeStamps[0])/FS_system\n",
    "print(\"Done!\")\n",
    "\n",
    "filePath = \"/home/shayok/Documents/Code/RippleDetectionAnalysis/Cavaradossi/paperData/singleChan.LFP/singleChan.LFP_nt2ch1.dat\" \n",
    "print(\"*****************Loading LFP Data*****************\")\n",
    "f = open(filePath,'rb')\n",
    "instr = f.readline()\n",
    "while (instr != b'<End settings>\\n') :\n",
    "   print(instr)\n",
    "   instr = f.readline()\n",
    "print('Current file position', f.tell())\n",
    "data = np.fromfile(f, dtype=np.int16)\n",
    "\n",
    "start = 0\n",
    "while(timeStamps[start]%10 != 0):\n",
    "    start+=1\n",
    "timeStamps = timeStamps[start::10]\n",
    "data = data[start::10]\n",
    "timeStampsSeconds = timeStampsSeconds[start::10]\n",
    "print(timeStamps[0])\n",
    "print(\"Data decimated to match data sent to modules\")"
   ]
  },
  {
   "cell_type": "code",
   "execution_count": 4,
   "metadata": {},
   "outputs": [
    {
     "data": {
      "text/plain": [
       "80.04678333333332"
      ]
     },
     "execution_count": 4,
     "metadata": {},
     "output_type": "execute_result"
    }
   ],
   "source": [
    "(timeStampsSeconds[-1]-timeStampsSeconds[0])/60"
   ]
  },
  {
   "cell_type": "code",
   "execution_count": 7,
   "metadata": {
    "collapsed": true
   },
   "outputs": [],
   "source": [
    "np.savetxt('/home/shayok/Documents/Code/RippleDetectionAnalysis/Cavaradossi/paperData/singleChanAnalysis/dataT2Full.out',data)\n",
    "np.savetxt('/home/shayok/Documents/Code/RippleDetectionAnalysis/Cavaradossi/paperData/singleChanAnalysis/timeStampsSeconds.out',timeStampsSeconds)"
   ]
  },
  {
   "cell_type": "code",
   "execution_count": 7,
   "metadata": {},
   "outputs": [
    {
     "name": "stderr",
     "output_type": "stream",
     "text": [
      "/home/shayok/anaconda3/lib/python3.5/site-packages/scipy/signal/_arraytools.py:45: FutureWarning: Using a non-tuple sequence for multidimensional indexing is deprecated; use `arr[tuple(seq)]` instead of `arr[seq]`. In the future this will be interpreted as an array index, `arr[np.array(seq)]`, which will result either in an error or a different result.\n",
      "/home/shayok/anaconda3/lib/python3.5/site-packages/scipy/signal/signaltools.py:1333: FutureWarning: Using a non-tuple sequence for multidimensional indexing is deprecated; use `arr[tuple(seq)]` instead of `arr[seq]`. In the future this will be interpreted as an array index, `arr[np.array(seq)]`, which will result either in an error or a different result.\n",
      "/home/shayok/anaconda3/lib/python3.5/site-packages/scipy/signal/signaltools.py:1336: FutureWarning: Using a non-tuple sequence for multidimensional indexing is deprecated; use `arr[tuple(seq)]` instead of `arr[seq]`. In the future this will be interpreted as an array index, `arr[np.array(seq)]`, which will result either in an error or a different result.\n",
      "/home/shayok/anaconda3/lib/python3.5/site-packages/scipy/signal/signaltools.py:1342: FutureWarning: Using a non-tuple sequence for multidimensional indexing is deprecated; use `arr[tuple(seq)]` instead of `arr[seq]`. In the future this will be interpreted as an array index, `arr[np.array(seq)]`, which will result either in an error or a different result.\n"
     ]
    }
   ],
   "source": [
    "#detect cannonical ripples\n",
    "smoothed_envelope, rippleData = ripple_filtering.rippleBandFilter(data, timeStampsSeconds, FS=FS)\n",
    "#set threshold, find threshold crossings, and find ripple bounds\n",
    "SecondaryThresholdSigma = 0\n",
    "thresholdSigma = 3\n",
    "lengthCriteria = 0.015 #15 ms\n",
    "#Tetrode 2\n",
    "threshold = np.mean(smoothed_envelope) + thresholdSigma*np.std(smoothed_envelope)\n",
    "\n",
    "#rippleEvents contains indices of events in smoothed_envelope that meet threshold\n",
    "rippleEvents, _ = ripple_filtering.thresholdCrossings(smoothed_envelope, threshold)\n",
    "#remove events that don't meet length criteria\n",
    "rippleEvents = rippleEvents[rippleEvents[:,1] - rippleEvents[:,0] >= np.round(FS * lengthCriteria),:]\n",
    "\n",
    "#find start and end of putative ripple aka when ripple band signal comes back down to mean\n",
    "secondaryThreshold = np.mean(smoothed_envelope) + SecondaryThresholdSigma*np.std(smoothed_envelope)\n",
    "rippleBounds, broaderMaxes = ripple_filtering.thresholdCrossings(smoothed_envelope, secondaryThreshold)\n",
    "\n",
    "#find windows that match and where they match aka where in the larger bound window does the smaller bound fit\n",
    "outerBoundaryIndices = np.searchsorted(rippleBounds[:,0], rippleEvents[:,0])\n",
    "outerBoundaryIndices = outerBoundaryIndices - 1 #subtract 1 since searchsorted returns index after where it belongs\n",
    "\n",
    "#Find extended boundaries for ripple events by pairing to largere window\n",
    "#   (Note that there may be repeats if the larger window contains multiple > 3SD sections)\n",
    "rippleBounds = rippleBounds[outerBoundaryIndices,:]\n",
    "rippleMaxes = broaderMaxes[outerBoundaryIndices]\n",
    "\n",
    "# Now, since all that we care about are the larger windows, so we should get rid of repeats\n",
    "_, unique_idx = np.unique(rippleBounds[:,0], return_index=True)\n",
    "rippleBounds = rippleBounds[unique_idx,:]\n",
    "rippleMaxes = rippleMaxes[unique_idx]\n",
    "rippleEvents = rippleEvents[unique_idx,:]"
   ]
  },
  {
   "cell_type": "code",
   "execution_count": 6,
   "metadata": {
    "collapsed": true
   },
   "outputs": [],
   "source": [
    "np.savez(\"/home/shayok/Documents/Code/RippleDetectionAnalysis/Cavaradossi/paperData/singleChanAnalysis/smoothed_envelope25tap.npz\",smoothed_envelope=smoothed_envelope)"
   ]
  },
  {
   "cell_type": "code",
   "execution_count": 8,
   "metadata": {
    "collapsed": true
   },
   "outputs": [],
   "source": [
    "np.savetxt(\"/home/shayok/Documents/Code/RippleDetectionAnalysis/Cavaradossi/paperData/singleChanAnalysis/rippleBoundsStart3SD.out\",rippleBounds[:,0],fmt='%10.5f')\n",
    "np.savetxt(\"/home/shayok/Documents/Code/RippleDetectionAnalysis/Cavaradossi/paperData/singleChanAnalysis/rippleBoundsEnd3SD.out\",rippleBounds[:,1],fmt='%10.5f')"
   ]
  },
  {
   "cell_type": "code",
   "execution_count": 5,
   "metadata": {
    "collapsed": true
   },
   "outputs": [],
   "source": [
    "np.savetxt(\"/home/shayok/Documents/Code/RippleDetectionAnalysis/Cavaradossi/paperData/singleChanAnalysis/rippleBoundsStart5SD.out\",rippleBounds[:,0],fmt='%10.5f')\n",
    "np.savetxt(\"/home/shayok/Documents/Code/RippleDetectionAnalysis/Cavaradossi/paperData/singleChanAnalysis/rippleBoundsEnd5SD.out\",rippleBounds[:,1],fmt='%10.5f')"
   ]
  },
  {
   "cell_type": "code",
   "execution_count": 6,
   "metadata": {
    "collapsed": true
   },
   "outputs": [],
   "source": [
    "np.savetxt(\"/home/shayok/Documents/Code/RippleDetectionAnalysis/Cavaradossi/paperData/singleChanAnalysis/rippleBoundsStart4SD.out\",rippleBounds[:,0],fmt='%10.5f')\n",
    "np.savetxt(\"/home/shayok/Documents/Code/RippleDetectionAnalysis/Cavaradossi/paperData/singleChanAnalysis/rippleBoundsEnd4SD.out\",rippleBounds[:,1],fmt='%10.5f')"
   ]
  },
  {
   "cell_type": "code",
   "execution_count": 11,
   "metadata": {},
   "outputs": [
    {
     "data": {
      "text/plain": [
       "1041"
      ]
     },
     "execution_count": 11,
     "metadata": {},
     "output_type": "execute_result"
    }
   ],
   "source": [
    "ripples4SD = np.loadtxt(\"/home/shayok/Documents/Code/RippleDetectionAnalysis/Cavaradossi/paperData/singleChanAnalysis/rippleBoundsEnd4SD.out\")\n",
    "ripples4SD.size"
   ]
  },
  {
   "cell_type": "code",
   "execution_count": 6,
   "metadata": {
    "collapsed": true
   },
   "outputs": [],
   "source": [
    "#save data for simulated detections\n",
    "smoothed_envelope_simulated, rippleData_simulated = ripple_filtering.rippleBandFilterSimulated(data, timeStampsSeconds, FS, ripple_filtering.bandpassFilterTaps, ripple_filtering.lowpassFilterTaps)\n",
    "np.savetxt(\"/home/shayok/Documents/Code/RippleDetectionAnalysis/Cavaradossi/paperData/singleChanAnalysis/smoothed_envelope_simulated.out\",smoothed_envelope_simulated,fmt='%10.5f')"
   ]
  },
  {
   "cell_type": "markdown",
   "metadata": {},
   "source": [
    "# Call C++ analysis program\n",
    "Remember to compile before running it! Compile with below!<br>\n",
    "` g++ -o singleChanAnalysis -Wall -pedantic -std=c++11 -pthread main.cpp`"
   ]
  },
  {
   "cell_type": "code",
   "execution_count": 9,
   "metadata": {},
   "outputs": [
    {
     "data": {
      "text/plain": [
       "0"
      ]
     },
     "execution_count": 9,
     "metadata": {},
     "output_type": "execute_result"
    }
   ],
   "source": [
    "os.system(\"/home/shayok/Documents/Code/RippleDetectionAnalysis/Cavaradossi/DataAnalysisScripts/singleChannelSimulatedDetections/singleChanAnalysis\")"
   ]
  },
  {
   "cell_type": "markdown",
   "metadata": {},
   "source": [
    "# Display results!\n",
    "Meh...this is in the Figure 5 notebook"
   ]
  }
 ],
 "metadata": {
  "anaconda-cloud": {},
  "kernelspec": {
   "display_name": "Python [Root]",
   "language": "python",
   "name": "Python [Root]"
  },
  "language_info": {
   "codemirror_mode": {
    "name": "ipython",
    "version": 3
   },
   "file_extension": ".py",
   "mimetype": "text/x-python",
   "name": "python",
   "nbconvert_exporter": "python",
   "pygments_lexer": "ipython3",
   "version": "3.5.2"
  }
 },
 "nbformat": 4,
 "nbformat_minor": 2
}
