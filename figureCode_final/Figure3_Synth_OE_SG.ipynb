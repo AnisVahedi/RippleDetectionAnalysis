{
 "cells": [
  {
   "cell_type": "markdown",
   "metadata": {},
   "source": [
    "# Figure 3\n",
    "This figure does the following:\n",
    "1. Demonstrates synthetic ripple detections in with real-time system\n",
    "2. Compares Open Ephys and Spike Gadgets real-time systems\n",
    "3. Shows performance tradeoffs with synthetic data as we sweep the threshold parameter space"
   ]
  },
  {
   "cell_type": "code",
   "execution_count": 1,
   "metadata": {},
   "outputs": [
    {
     "name": "stderr",
     "output_type": "stream",
     "text": [
      "/home/shayok/anaconda3/lib/python3.5/importlib/_bootstrap.py:222: RuntimeWarning: numpy.dtype size changed, may indicate binary incompatibility. Expected 96, got 88\n",
      "  return f(*args, **kwds)\n",
      "/home/shayok/anaconda3/lib/python3.5/importlib/_bootstrap.py:222: RuntimeWarning: numpy.dtype size changed, may indicate binary incompatibility. Expected 96, got 88\n",
      "  return f(*args, **kwds)\n",
      "/home/shayok/anaconda3/lib/python3.5/importlib/_bootstrap.py:222: RuntimeWarning: numpy.dtype size changed, may indicate binary incompatibility. Expected 96, got 88\n",
      "  return f(*args, **kwds)\n",
      "/home/shayok/anaconda3/lib/python3.5/importlib/_bootstrap.py:222: RuntimeWarning: numpy.dtype size changed, may indicate binary incompatibility. Expected 96, got 88\n",
      "/home/shayok/anaconda3/lib/python3.5/importlib/_bootstrap.py:222: RuntimeWarning: numpy.dtype size changed, may indicate binary incompatibility. Expected 96, got 88\n"
     ]
    }
   ],
   "source": [
    "#imports\n",
    "import numpy as np\n",
    "import pandas as pd \n",
    "from tqdm import tqdm\n",
    "import scipy.signal as signal #signal processing stuff (e.g. filters, hilbert transform, etc.)\n",
    "import scipy\n",
    "import scipy.stats as st\n",
    "import struct\n",
    "import os\n",
    "import nelpy as nel #NELPY!\n",
    "#I saved my online ripple detection filter taps and stuff in a file....gonna import this for all analysis\n",
    "import imp\n",
    "ripple_filtering = imp.load_source('ripple_filtering', '/home/shayok/Documents/Code/RippleDetectionAnalysis/Cavaradossi/DataAnalysisScripts/ripple_filtering.py')\n",
    "#plotting!\n",
    "import matplotlib as mpl\n",
    "import matplotlib.pyplot as plt\n",
    "import matplotlib.gridspec as gridspec\n",
    "import matplotlib.patches as patches\n",
    "import nelpy.plotting as npl\n",
    "import nelpy.io.trodes as neltro\n",
    "import seaborn as sns\n",
    "from mpl_toolkits.axes_grid1.inset_locator import zoomed_inset_axes\n",
    "from mpl_toolkits.axes_grid1.inset_locator import inset_axes\n",
    "from mpl_toolkits.axes_grid1.inset_locator import mark_inset\n",
    "from matplotlib.ticker import AutoMinorLocator\n",
    "#make the svg\n",
    "import svgutils.transform as sg\n",
    "import sys\n",
    "from IPython.display import SVG, display, Image\n",
    "\n",
    "%matplotlib inline \n",
    "\n",
    "#Sampling rates\n",
    "FS_system = 30000\n",
    "FS = 3000 #decimated by 10\n",
    "saveFigs = False"
   ]
  },
  {
   "cell_type": "markdown",
   "metadata": {},
   "source": [
    "## Spike Gadgets"
   ]
  },
  {
   "cell_type": "code",
   "execution_count": 2,
   "metadata": {
    "collapsed": true
   },
   "outputs": [],
   "source": [
    "# file_loc = \"/media/shayok/3TBData/Data/RippleDetectionAnalysis/paperData/syntheticRippleDetections_new/update2/syntheticSG.rec\"\n",
    "onlinethreshold = 571.6 #this was what was calculated on trodes and since we're doing the same filtering here the value will be the same"
   ]
  },
  {
   "cell_type": "markdown",
   "metadata": {},
   "source": [
    "### Fitlering the actual data that was run through"
   ]
  },
  {
   "cell_type": "code",
   "execution_count": 3,
   "metadata": {},
   "outputs": [
    {
     "data": {
      "text/plain": [
       "(<AnalogSignalArray at 0x7fed4248f6a0: 2 signals> for a total of 15:10:049 minutes,\n",
       " array(['t1c1', 'Enveloped'], \n",
       "       dtype='<U9'),\n",
       " 3000.0)"
      ]
     },
     "execution_count": 3,
     "metadata": {},
     "output_type": "execute_result"
    }
   ],
   "source": [
    "#Load up relevant lfp\n",
    "#we want tetrode 1 channel 1, lowpass filtered, and decimated via Trodes!\n",
    "# asa = neltro.load_wideband_lfp_rec(file_loc,\\\n",
    "#                                    \"/home/shayok/Documents/Code/trodes/\", channel = [1], tetrode = [1],\\\n",
    "#                                    decimation_factor = 1, trodes_style_decimation=True,\\\n",
    "#                                    delete_files=False,)\n",
    "asa = nel.load_pkl(\"/home/shayok/Documents/Code/RippleDetectionAnalysis/Cavaradossi/paperData/figureData/Figure3/Figure3SpikeGadgets_offlinesignal.pkl\",zip=False).asa\n",
    "\n",
    "smoothed_envelope, rippleData = ripple_filtering.rippleBandFilter(asa.ydata[0], asa.time, FS=asa.fs)\n",
    "asa.add_signal(nel.utils.signal_envelope1D(nel.filtering.ripple_band_filter(asa,)),label='Enveloped')\n",
    "threshold = (asa[0,1].mean())+(3*asa[0,1].std())\n",
    "offline_analysis_signals = asa\n",
    "asa,asa.labels,asa.fs"
   ]
  },
  {
   "cell_type": "markdown",
   "metadata": {},
   "source": [
    "### Offline Detections"
   ]
  },
  {
   "cell_type": "code",
   "execution_count": 4,
   "metadata": {
    "collapsed": true
   },
   "outputs": [],
   "source": [
    "cowy = asa[0,1]\n",
    "#ripple detection across channels!\n",
    "ripple_epochs = []\n",
    "for i,cow in enumerate(cowy.signals):\n",
    "    #find ripples!\n",
    "    ripple_bounds, ripple_maxes, ripple_events = \\\n",
    "                                nel.utils.get_events_boundaries(cow.ydata, \\\n",
    "                                PrimaryThreshold = threshold,\\\n",
    "                                minThresholdLength = 0.015, ds=1/cow.fs)\n",
    "    #ripple bounds stored as epoch arrays\n",
    "    ripple_epochs.append(nel.EpochArray((ripple_bounds/cow.fs)+cow.time[0]))"
   ]
  },
  {
   "cell_type": "code",
   "execution_count": 5,
   "metadata": {},
   "outputs": [
    {
     "data": {
      "text/plain": [
       "1"
      ]
     },
     "execution_count": 5,
     "metadata": {},
     "output_type": "execute_result"
    }
   ],
   "source": [
    "len(ripple_epochs)"
   ]
  },
  {
   "cell_type": "markdown",
   "metadata": {},
   "source": [
    "### Online Detections"
   ]
  },
  {
   "cell_type": "code",
   "execution_count": 6,
   "metadata": {
    "collapsed": true
   },
   "outputs": [],
   "source": [
    "# channels = neltro.load_digital_channel_nums(file_loc, verbose = True)"
   ]
  },
  {
   "cell_type": "code",
   "execution_count": 7,
   "metadata": {
    "collapsed": true
   },
   "outputs": [],
   "source": [
    "# digital_in = neltro.load_dio_rec(file_loc,\"/home/shayok/Documents/Code/trodes/\",channel=channels,data_already_extracted=False, verbose=False)"
   ]
  },
  {
   "cell_type": "code",
   "execution_count": 8,
   "metadata": {
    "collapsed": true
   },
   "outputs": [],
   "source": [
    "# [print(x) for x in digital_in]"
   ]
  },
  {
   "cell_type": "code",
   "execution_count": 9,
   "metadata": {
    "collapsed": true
   },
   "outputs": [],
   "source": [
    "# digital_in = np.asarray(digital_in[14])"
   ]
  },
  {
   "cell_type": "code",
   "execution_count": 10,
   "metadata": {
    "collapsed": true
   },
   "outputs": [],
   "source": [
    "digital_in = np.load(\"/home/shayok/Documents/Code/RippleDetectionAnalysis/Cavaradossi/paperData/figureData/Figure3/Figure3Digital.npz\")['digital_inSG']"
   ]
  },
  {
   "cell_type": "code",
   "execution_count": 11,
   "metadata": {},
   "outputs": [
    {
     "data": {
      "text/plain": [
       "array([(4442238, 0), (4662549, 1), (4662557, 0), ..., (31009243, 0),\n",
       "       (31061535, 1), (31061543, 0)], \n",
       "      dtype=[('time', '<u4'), ('dio', 'u1')])"
      ]
     },
     "execution_count": 11,
     "metadata": {},
     "output_type": "execute_result"
    }
   ],
   "source": [
    "digital_in"
   ]
  },
  {
   "cell_type": "code",
   "execution_count": 12,
   "metadata": {
    "collapsed": true
   },
   "outputs": [],
   "source": [
    "online_detections = digital_in['time'][np.where(digital_in['dio']>0)]/30000"
   ]
  },
  {
   "cell_type": "code",
   "execution_count": 13,
   "metadata": {},
   "outputs": [
    {
     "data": {
      "text/plain": [
       "array([  155.4183    ,   157.16083333,   158.9553    ,   160.70393333,\n",
       "         162.46303333,   164.22413333,   165.98403333,   167.7594    ,\n",
       "         169.51213333,   171.28126667,   173.03816667,   174.81573333,\n",
       "         176.56633333,   178.3299    ,   180.08903333,   181.8575    ,\n",
       "         183.61586667,   185.38046667,   187.15093333,   188.90883333,\n",
       "         190.67623333,   192.43933333,   194.21433333,   195.97023333,\n",
       "         197.72053333,   199.49523333,   201.23806667,   203.029     ,\n",
       "         204.7828    ,   206.55523333,   208.30443333,   210.05963333,\n",
       "         211.8428    ,   213.61193333,   215.34883333,   217.1221    ,\n",
       "         218.8978    ,   220.66113333,   222.42613333,   224.17583333,\n",
       "         225.94393333,   227.69516667,   229.46886667,   231.23426667,\n",
       "         232.99446667,   234.76863333,   236.52516667,   238.29186667,\n",
       "         240.05653333,   241.81206667,   243.57796667,   245.34093333,\n",
       "         247.11433333,   248.87086667,   250.6235    ,   252.38616667,\n",
       "         254.1671    ,   255.94153333,   257.6842    ,   259.4655    ,\n",
       "         261.21063333,   262.9757    ,   264.73993333,   266.51453333,\n",
       "         268.266     ,   270.0341    ,   271.79036667,   273.55613333,\n",
       "         275.3298    ,   277.08986667,   278.8579    ,   280.61506667,\n",
       "         282.39416667,   284.14126667,   285.90523333,   287.67033333,\n",
       "         289.42376667,   291.1865    ,   292.9754    ,   294.7149    ,\n",
       "         296.4742    ,   298.2508    ,   300.01016667,   301.7772    ,\n",
       "         303.53086667,   305.29996667,   307.05623333,   308.8285    ,\n",
       "         310.59693333,   312.36343333,   314.12893333,   315.89683333,\n",
       "         317.64796667,   319.21443333,   319.4314    ,   321.17386667,\n",
       "         322.9286    ,   324.69886667,   326.4697    ,   328.231     ,\n",
       "         330.0082    ,   330.52326667,   331.7551    ,   333.54216667,\n",
       "         335.27643333,   337.03053333,   338.7955    ,   340.5822    ,\n",
       "         342.32343333,   344.09246667,   345.87253333,   347.6325    ,\n",
       "         349.3945    ,   351.1572    ,   352.9068    ,   354.68123333,\n",
       "         356.44836667,   358.18773333,   359.96776667,   361.72376667,\n",
       "         363.50746667,   365.26086667,   367.02113333,   368.7908    ,\n",
       "         370.55553333,   372.31986667,   374.0905    ,   375.83613333,\n",
       "         377.6128    ,   379.37646667,   381.13296667,   382.8916    ,\n",
       "         384.66273333,   386.43826667,   388.1935    ,   389.94743333,\n",
       "         391.71513333,   393.47893333,   395.24263333,   397.00753333,\n",
       "         397.9779    ,   398.76896667,   400.53406667,   402.28883333,\n",
       "         404.0439    ,   405.8082    ,   407.59293333,   409.34796667,\n",
       "         411.1168    ,   412.8734    ,   414.62876667,   416.40633333,\n",
       "         418.15633333,   419.93046667,   421.69726667,   423.45773333,\n",
       "         425.2233    ,   426.97483333,   428.75323333,   430.5229    ,\n",
       "         432.2874    ,   434.03846667,   435.7891    ,   437.5754    ,\n",
       "         439.3324    ,   441.0781    ,   442.8518    ,   444.62773333,\n",
       "         446.39086667,   448.1531    ,   449.89263333,   450.79846667,\n",
       "         451.67216667,   453.44376667,   455.21216667,   456.9665    ,\n",
       "         458.7317    ,   460.49443333,   462.2567    ,   464.02076667,\n",
       "         465.25306667,   465.7783    ,   467.5353    ,   469.31813333,\n",
       "         471.07786667,   472.8483    ,   474.5985    ,   476.36976667,\n",
       "         478.1354    ,   479.88226667,   481.6428    ,   483.42376667,\n",
       "         485.17183333,   486.94083333,   487.98286667,   488.7197    ,\n",
       "         490.47383333,   492.22113333,   494.0004    ,   495.74913333,\n",
       "         497.5299    ,   499.28546667,   501.04356667,   502.8229    ,\n",
       "         504.57546667,   506.35746667,   508.10493333,   509.8634    ,\n",
       "         511.6346    ,   513.3965    ,   515.16606667,   516.9296    ,\n",
       "         518.70573333,   519.99376667,   520.4636    ,   522.21166667,\n",
       "         523.98963333,   525.73643333,   527.50183333,   529.25093333,\n",
       "         531.03176667,   531.5051    ,   532.79676667,   534.54676667,\n",
       "         536.3245    ,   538.08316667,   539.854     ,   541.62443333,\n",
       "         542.76096667,   543.37093333,   545.14913333,   546.9075    ,\n",
       "         548.68296667,   550.43043333,   552.18596667,   553.95573333,\n",
       "         555.7231    ,   557.4885    ,   559.24843333,   561.021     ,\n",
       "         562.77623333,   564.54446667,   566.29663333,   568.07443333,\n",
       "         569.83446667,   571.57686667,   573.35283333,   575.13896667,\n",
       "         576.88786667,   577.6524    ,   578.64273333,   580.40946667,\n",
       "         582.1698    ,   583.93616667,   585.7085    ,   587.46496667,\n",
       "         589.21916667,   590.99893333,   592.76053333,   594.51243333,\n",
       "         596.2954    ,   598.03846667,   599.80516667,   601.57913333,\n",
       "         603.32516667,   605.09173333,   606.86116667,   608.61583333,\n",
       "         610.4009    ,   612.16963333,   613.92376667,   615.68373333,\n",
       "         616.9944    ,   617.4523    ,   619.20956667,   620.96223333,\n",
       "         622.7346    ,   624.49513333,   625.27106667,   626.2599    ,\n",
       "         628.0195    ,   629.7711    ,   631.5495    ,   633.31113333,\n",
       "         635.0864    ,   636.84133333,   638.59853333,   640.36486667,\n",
       "         642.13483333,   643.89416667,   645.65813333,   647.4194    ,\n",
       "         649.1698    ,   650.95166667,   652.70943333,   654.45603333,\n",
       "         656.2432    ,   658.00333333,   659.75746667,   661.52786667,\n",
       "         663.28413333,   665.05483333,   666.8265    ,   668.5804    ,\n",
       "         670.35006667,   672.10263333,   673.87316667,   675.63663333,\n",
       "         677.39186667,   679.15446667,   680.93193333,   682.67166667,\n",
       "         684.45073333,   686.21953333,   687.97586667,   689.7545    ,\n",
       "         691.5146    ,   693.27796667,   695.0338    ,   696.80613333,\n",
       "         698.5742    ,   700.31686667,   702.10413333,   703.36443333,\n",
       "         703.8464    ,   705.6155    ,   707.3778    ,   709.13313333,\n",
       "         710.89476667,   712.6804    ,   714.43896667,   715.77573333,\n",
       "         716.1935    ,   717.9461    ,   719.7203    ,   721.48813333,\n",
       "         723.25806667,   725.02883333,   726.77456667,   727.40006667,\n",
       "         728.54713333,   730.28716667,   732.07146667,   733.81483333,\n",
       "         735.585     ,   737.3687    ,   739.1261    ,   740.89176667,\n",
       "         742.65756667,   744.40616667,   746.1828    ,   747.93186667,\n",
       "         749.7057    ,   751.4629    ,   753.23443333,   754.99836667,\n",
       "         756.75556667,   758.52913333,   760.2763    ,   762.0582    ,\n",
       "         763.8119    ,   765.57883333,   767.31663333,   769.09703333,\n",
       "         770.88046667,   772.62546667,   774.4104    ,   776.15526667,\n",
       "         777.91533333,   779.6831    ,   781.44416667,   783.20706667,\n",
       "         784.9855    ,   786.73546667,   788.5081    ,   790.26483333,\n",
       "         792.0425    ,   793.79283333,   795.56416667,   797.3138    ,\n",
       "         800.8535    ,   802.59726667,   804.3782    ,   806.13166667,\n",
       "         807.8928    ,   809.64843333,   811.4163    ,   813.1871    ,\n",
       "         814.93716667,   816.72226667,   818.49016667,   820.2494    ,\n",
       "         822.01586667,   823.78286667,   825.5376    ,   827.31676667,\n",
       "         829.04843333,   830.8251    ,   832.5747    ,   834.35813333,\n",
       "         836.09903333,   837.87743333,   839.64906667,   841.38956667,\n",
       "         843.1642    ,   844.93363333,   846.70296667,   848.4448    ,\n",
       "         850.22646667,   851.98696667,   853.7608    ,   855.52063333,\n",
       "         857.26986667,   859.04216667,   860.8071    ,   862.55886667,\n",
       "         864.32413333,   866.0894    ,   867.85663333,   869.63113333,\n",
       "         871.39143333,   873.1482    ,   874.91443333,   876.66016667,\n",
       "         878.4427    ,   880.2052    ,   881.96883333,   883.71446667,\n",
       "         885.48793333,   887.25133333,   889.0212    ,   890.7938    ,\n",
       "         892.43306667,   894.3076    ,   896.05806667,   897.82906667,\n",
       "         899.60946667,   901.37423333,   903.13116667,   904.90563333,\n",
       "         906.6539    ,   908.4127    ,   910.1869    ,   911.94863333,\n",
       "         913.71476667,   915.45893333,   917.23283333,   918.9995    ,\n",
       "         920.77183333,   922.5318    ,   924.28153333,   926.0418    ,\n",
       "         927.8061    ,   929.58463333,   931.33123333,   933.1062    ,\n",
       "         934.87846667,   936.64613333,   938.3852    ,   940.1542    ,\n",
       "         941.91713333,   943.67506667,   945.45113333,   947.2162    ,\n",
       "         948.95743333,   950.73713333,   952.50083333,   954.26843333,\n",
       "         956.02893333,   957.79613333,   959.5584    ,   961.3239    ,\n",
       "         963.10646667,   964.84736667,   966.61953333,   968.3625    ,\n",
       "         970.1464    ,   971.895     ,   973.66746667,   975.4425    ,\n",
       "         977.1956    ,   978.96176667,   980.7237    ,   982.4909    ,\n",
       "         984.24213333,   986.00846667,   987.7793    ,   989.54296667,\n",
       "         991.30543333,   993.05873333,   994.82113333,   996.58726667,\n",
       "         998.3565    ,  1000.11983333,  1001.90373333,  1003.6538    ,\n",
       "        1005.40543333,  1007.17713333,  1008.9298    ,  1010.68686667,\n",
       "        1012.46486667,  1014.2338    ,  1015.99426667,  1017.75946667,\n",
       "        1019.5367    ,  1021.27553333,  1023.04743333,  1024.80286667,\n",
       "        1026.5715    ,  1028.33736667,  1030.09923333,  1031.8734    ,\n",
       "        1033.64116667,  1035.3845    ])"
      ]
     },
     "execution_count": 13,
     "metadata": {},
     "output_type": "execute_result"
    }
   ],
   "source": [
    "online_detections"
   ]
  },
  {
   "cell_type": "markdown",
   "metadata": {},
   "source": [
    "### Simulated Detections"
   ]
  },
  {
   "cell_type": "code",
   "execution_count": 14,
   "metadata": {
    "collapsed": true
   },
   "outputs": [],
   "source": [
    "# asa = neltro.load_wideband_lfp_rec(file_loc,\\\n",
    "#                                    \"/home/shayok/Documents/Code/trodes/\", channel = [1], tetrode = [1],\\\n",
    "#                                    decimation_factor = 1, trodes_style_decimation=True, trodes_lowpass_filter_freq=400, trodes_highpass_filter_freq=0,\\\n",
    "#                                    delete_files=False,)\n",
    "asa = nel.load_pkl(\"/home/shayok/Documents/Code/RippleDetectionAnalysis/Cavaradossi/paperData/figureData/Figure3/Figure3SpikeGadgets_onlinesignal.pkl\",zip=False).asa"
   ]
  },
  {
   "cell_type": "code",
   "execution_count": 15,
   "metadata": {
    "collapsed": true
   },
   "outputs": [],
   "source": [
    "#simulated detections smoothing!\n",
    "smoothed_envelope_simulated, _ = ripple_filtering.rippleBandFilterSimulated(asa[0,0].ydata/0.195,asa.time, asa.fs, bpFilterTaps=ripple_filtering.bandpassFilterTaps, lpFilterTaps=ripple_filtering.lowpassFilterTaps)\n",
    "smoothed_envelope_simulated = np.squeeze(smoothed_envelope_simulated)"
   ]
  },
  {
   "cell_type": "code",
   "execution_count": 16,
   "metadata": {
    "collapsed": true
   },
   "outputs": [],
   "source": [
    "#sim detections\n",
    "blocklength = 600\n",
    "ripple_indices = np.zeros(smoothed_envelope_simulated.shape)\n",
    "i = 0\n",
    "while i < len(smoothed_envelope_simulated):\n",
    "    if(smoothed_envelope_simulated[i] > onlinethreshold):\n",
    "        ripple_indices[i] = 1\n",
    "        ripple_indices[i+1:blocklength] = 0\n",
    "        i += blocklength\n",
    "    else:\n",
    "        ripple_indices[i] = 0\n",
    "        i += 1 \n",
    "simdetections = asa.time[np.where(ripple_indices>0)]"
   ]
  },
  {
   "cell_type": "markdown",
   "metadata": {},
   "source": [
    "### Calculate TPR, FPR, Detect Lats, "
   ]
  },
  {
   "cell_type": "code",
   "execution_count": 17,
   "metadata": {
    "scrolled": true
   },
   "outputs": [
    {
     "name": "stdout",
     "output_type": "stream",
     "text": [
      "online tpr, fpr  99.79959919839679 3.2064128256513027\n"
     ]
    }
   ],
   "source": [
    "#ripple evals: tpr, fpr, detect lat\n",
    "\n",
    "i=0\n",
    "j=0\n",
    "detectionindex = 0\n",
    "simulated_detection_latencies = []\n",
    "whichonessimulated = []\n",
    "whichripple = []\n",
    "while i < len(simdetections) and j<len(ripple_epochs[0]):\n",
    "        #accurate detections\n",
    "        if simdetections[i] > ripple_epochs[0].time[j][0] and simdetections[i] < ripple_epochs[0].time[j][1]:\n",
    "            simulated_detection_latencies.append(simdetections[i]-ripple_epochs[0].time[j][0])\n",
    "            whichripple.append(ripple_epochs[0].time[j][0])\n",
    "            whichonessimulated.append(detectionindex)\n",
    "            detectionindex+=1\n",
    "            i+=1\n",
    "            j+=1\n",
    "        #false detection\n",
    "        elif simdetections[i] < ripple_epochs[0].time[j][0]:\n",
    "            i+=1\n",
    "        #missed detection\n",
    "        elif simdetections[i] > ripple_epochs[0].time[j][1]:\n",
    "            j+=1\n",
    "            \n",
    "simulated_detection_latencies = np.asarray(simulated_detection_latencies)\n",
    "\n",
    "\n",
    "j=0\n",
    "i=0\n",
    "truepositives = 0\n",
    "falsepositives = 0\n",
    "online_detection_latencies = []\n",
    "whichonesonline = []\n",
    "interesting = []\n",
    "closedLoopLats = []\n",
    "while i < len(online_detections) and j<len(ripple_epochs[0]):\n",
    "        #accurate detection\n",
    "        if online_detections[i] > ripple_epochs[0].time[j][0] and online_detections[i] < ripple_epochs[0].time[j][1]:\n",
    "            online_detection_latencies.append(online_detections[i]-ripple_epochs[0].time[j][0])\n",
    "            if ripple_epochs[0].time[j][0] in whichripple:\n",
    "                whichonesonline.append(truepositives)\n",
    "                closedLoopLats.append(online_detection_latencies[-1] - simulated_detection_latencies[truepositives])\n",
    "            else:\n",
    "                interesting.append(ripple_epochs[0].time[j][0])\n",
    "            truepositives+=1\n",
    "            i+=1\n",
    "            j+=1\n",
    "        #false detection\n",
    "        elif online_detections[i] < ripple_epochs[0].time[j][0]:\n",
    "            i+=1\n",
    "            falsepositives+=1\n",
    "        #missed detection\n",
    "        elif online_detections[i] > ripple_epochs[0].time[j][1]:\n",
    "            j+=1\n",
    "        #This is not accounting for a ripple detection before the first true positive\n",
    "        #detection. This is fine in this controlled experiment since it won't happen.\n",
    "        #The detection analysis for the in vivo data as well as the actual synthetic analysis\n",
    "        #does indeed do this. Check the cpp code. \n",
    "tpr = truepositives*100/(len(ripple_epochs[0]))\n",
    "fpr = falsepositives*100/len(ripple_epochs[0])\n",
    "online_detection_latencies = np.asarray(online_detection_latencies)\n",
    "print('online tpr, fpr ', tpr,fpr)"
   ]
  },
  {
   "cell_type": "code",
   "execution_count": 18,
   "metadata": {},
   "outputs": [
    {
     "data": {
      "text/plain": [
       "((498,), (498,))"
      ]
     },
     "execution_count": 18,
     "metadata": {},
     "output_type": "execute_result"
    }
   ],
   "source": [
    "simulated_detection_latencies.shape, online_detection_latencies.shape"
   ]
  },
  {
   "cell_type": "code",
   "execution_count": 19,
   "metadata": {
    "scrolled": true
   },
   "outputs": [
    {
     "data": {
      "text/plain": [
       "(498, 498)"
      ]
     },
     "execution_count": 19,
     "metadata": {},
     "output_type": "execute_result"
    }
   ],
   "source": [
    "simulated_detection_latencies[whichonessimulated].size, online_detection_latencies[whichonesonline].size"
   ]
  },
  {
   "cell_type": "markdown",
   "metadata": {},
   "source": [
    "498 detections out of 499 injected ripples...I was off by one ripple in terms of what I injected into the noise! :("
   ]
  },
  {
   "cell_type": "markdown",
   "metadata": {},
   "source": [
    "## Generate panel (f)"
   ]
  },
  {
   "cell_type": "code",
   "execution_count": 25,
   "metadata": {
    "scrolled": false
   },
   "outputs": [
    {
     "data": {
      "image/png": "[encoded data removed]",
      "text/plain": [
       "<matplotlib.figure.Figure at 0x7fed4139df60>"
      ]
     },
     "metadata": {},
     "output_type": "display_data"
    },
    {
     "name": "stdout",
     "output_type": "stream",
     "text": [
      "Average Detection Latency 45.43775100401541 ms\n",
      "Simulated Average Detection Latency 42.79116465863569 ms\n",
      "Median Detection Latency 42.1833333333268 ms\n",
      "Simulated Median Detection Latency 39.99999999997783 ms\n",
      "Average Closed Loop Latency 2.646586345379724 ms\n",
      "Median Closed Loop Latency 1.8666666666149467 ms\n"
     ]
    }
   ],
   "source": [
    "#paper plot settings\n",
    "%matplotlib inline\n",
    "mpl.rcdefaults()\n",
    "sns.set(rc={'font.family': 'sans-serif','figure.figsize': (2, 2),'lines.linewidth': 1, 'font.size': 9.6, 'axes.labelsize': 9.6, 'axes.titlesize':9.6, 'legend.fontsize': 6.4, 'ytick.labelsize': 8, 'xtick.labelsize': 8, 'svg.fonttype' : 'none', 'axes.labelpad' : 1.2 })\n",
    "sns.set_style('white')\n",
    "sns.set_color_codes(palette='deep')\n",
    "saveFigs = True\n",
    "\n",
    "\n",
    "test = np.asarray([online_detection_latencies[whichonesonline]*1000, simulated_detection_latencies[whichonessimulated]*1000])\n",
    "test = np.transpose(test)\n",
    "x = np.arange(500)\n",
    "y = x\n",
    "\n",
    "df = pd.DataFrame(test, columns=[\"Online (ms)\",\"Simulated (ms)\"])\n",
    "\n",
    "g = sns.JointGrid(x=\"Online (ms)\", y=\"Simulated (ms)\", data=df,xlim=[0,155],ylim=[0,155],size=2) #setup grid\n",
    "g.fig.suptitle(\"Spike Gadgets Detection Latencies\",y=1.01,x=0.65)\n",
    "g = g.plot_joint(plt.scatter, c='dimgray',alpha=0.15,s=5,zorder=1,lw=0) #scatter plot\n",
    "g = g.plot_marginals(sns.kdeplot, color='dimgray',shade=True) #distributions\n",
    "g.ax_joint.plot(x,y, 'r--',label='y = x',zorder=3,c='red') #1 to 1 line\n",
    "#ticks\n",
    "g.ax_joint.set_xticks(np.arange(0,151,50))\n",
    "minorLocator = AutoMinorLocator(2)\n",
    "g.ax_joint.xaxis.set_minor_locator(minorLocator)\n",
    "g.ax_joint.tick_params(axis='x',which='minor',top='off',length=2,width=0.5,color='k')\n",
    "g.ax_joint.tick_params(axis='x',which='major',top='off',length=2,width=1,color='k')\n",
    "\n",
    "g.ax_joint.set_yticks(np.arange(0,151,50))\n",
    "minorLocator = AutoMinorLocator(2)\n",
    "g.ax_joint.yaxis.set_minor_locator(minorLocator)\n",
    "g.ax_joint.yaxis.tick_left()\n",
    "g.ax_joint.tick_params(axis='y',which='minor',right='off',direction='out',length=2,width=0.5,color='k',)\n",
    "g.ax_joint.tick_params(axis='y',which='major',right='off',direction='out',length=2,width=1,color='k',)\n",
    "\n",
    "g.ax_joint.legend(loc='lower right',bbox_to_anchor=(1.1,-0.01))\n",
    "if(saveFigs):\n",
    "    g.savefig('/home/shayok/Documents/Code/RippleDetectionAnalysis/Cavaradossi/figures_final/fig3_synthdetections/scatter-sim-sg.svg',transparent=True)\n",
    "\n",
    "plt.show()\n",
    "    \n",
    "print(\"Average Detection Latency {} ms\".format(np.mean(online_detection_latencies[whichonesonline])*1000))\n",
    "print(\"Simulated Average Detection Latency {} ms\".format(np.mean(simulated_detection_latencies[whichonessimulated])*1000))\n",
    "print(\"Median Detection Latency {} ms\".format(np.median(online_detection_latencies[whichonesonline])*1000))\n",
    "print(\"Simulated Median Detection Latency {} ms\".format(np.median(simulated_detection_latencies[whichonessimulated])*1000))\n",
    "print(\"Average Closed Loop Latency {} ms\".format(np.mean(closedLoopLats)*1000))\n",
    "print(\"Median Closed Loop Latency {} ms\".format(np.median(closedLoopLats)*1000))"
   ]
  },
  {
   "cell_type": "code",
   "execution_count": 43,
   "metadata": {},
   "outputs": [
    {
     "data": {
      "image/png": "[encoded data removed]",
      "text/plain": [
       "<matplotlib.figure.Figure at 0x7fccec79cb00>"
      ]
     },
     "metadata": {},
     "output_type": "display_data"
    }
   ],
   "source": [
    "plt.hist(np.asarray(closedLoopLats)*1000,bins=100)\n",
    "plt.xlim(1,3)\n",
    "plt.show()"
   ]
  },
  {
   "cell_type": "code",
   "execution_count": 44,
   "metadata": {},
   "outputs": [
    {
     "data": {
      "text/plain": [
       "0.8032128514056225"
      ]
     },
     "execution_count": 44,
     "metadata": {},
     "output_type": "execute_result"
    }
   ],
   "source": [
    "(np.asarray(np.where(np.asarray(closedLoopLats)*1000>1.5)).size-np.asarray(np.where(np.asarray(closedLoopLats)*1000>2.6)).size)/len(closedLoopLats)"
   ]
  },
  {
   "cell_type": "code",
   "execution_count": 45,
   "metadata": {},
   "outputs": [
    {
     "data": {
      "text/plain": [
       "1.8666666666149467"
      ]
     },
     "execution_count": 45,
     "metadata": {},
     "output_type": "execute_result"
    }
   ],
   "source": [
    "np.median(np.asarray(closedLoopLats)*1000)"
   ]
  },
  {
   "cell_type": "markdown",
   "metadata": {},
   "source": [
    "<b> Closed Loop Latency </b><br>\n",
    "~80% data within 1.35 and 2.6 ms <br>\n",
    "1.83 ms median "
   ]
  },
  {
   "cell_type": "markdown",
   "metadata": {},
   "source": [
    "## Generate panel (a)"
   ]
  },
  {
   "cell_type": "code",
   "execution_count": 154,
   "metadata": {},
   "outputs": [
    {
     "name": "stderr",
     "output_type": "stream",
     "text": [
      "/home/shayok/anaconda3/lib/python3.5/site-packages/matplotlib/patches.py:107: UserWarning: Setting the 'color' property will overridethe edgecolor or facecolor properties. \n",
      "/home/shayok/anaconda3/lib/python3.5/site-packages/matplotlib/patches.py:107: UserWarning: Setting the 'color' property will overridethe edgecolor or facecolor properties. \n"
     ]
    },
    {
     "data": {
      "image/png": "[encoded data removed]",
      "text/plain": [
       "<matplotlib.figure.Figure at 0x7fccdbb534e0>"
      ]
     },
     "metadata": {},
     "output_type": "display_data"
    }
   ],
   "source": [
    "saveFigs = True\n",
    "\n",
    "#for lfp\n",
    "%matplotlib inline\n",
    "mpl.rcdefaults()\n",
    "sns.set(rc={'font.family': 'sans-serif','figure.figsize': (3, 2),'lines.linewidth': 1, 'font.size': 9.6, 'axes.labelsize': 12, 'axes.titlesize':12, 'legend.fontsize': 8, 'ytick.labelsize': 10, 'xtick.labelsize': 10, 'svg.fonttype' : 'none', 'axes.labelpad' : 1.2 })\n",
    "sns.set_style('white')\n",
    "sns.set_color_codes(palette='deep')\n",
    "\n",
    "\n",
    "#Main Plot\n",
    "ax = plt.gca()\n",
    "ax.plot(offline_analysis_signals.time,offline_analysis_signals[0,0].ydata.squeeze(),color='dimgray',alpha=0.95) #LFP offline\n",
    "npl.epochplot(ripple_epochs[0],color='blue',alpha=0.1,hatch='') #Canonical Ripple Epoch\n",
    "arrow = u'$\\u2193$'\n",
    "ax.scatter(simdetections, np.ones(simdetections.shape)*425,color=\"k\",s=100,marker=arrow,label=\"Simulated Detection\") #detection timestamp\n",
    "ax.scatter(online_detections, np.ones(online_detections.shape)*425,color=\"red\",s=100,marker=arrow,label=\"Online Detection\") #detection timestamp\n",
    "ax.set_xlim(599,605.9)\n",
    "ax.set_ylim(-480,500)\n",
    "ax.set_title(\"Spike Gadgets Synthetic Ripple Detection\")\n",
    "\n",
    "npl.utils.clear_left_right(ax)\n",
    "npl.utils.clear_top_bottom(ax)\n",
    "npl.scalebar.add_scalebar(ax=ax, sizex=1, labelx='1 s', sizey=500, labely='500 $\\mu$V',\\\n",
    "                          pad=0, loc=4,)\n",
    "\n",
    "#inset location\n",
    "ax.add_patch(\n",
    "    patches.Rectangle(\n",
    "        (605,-475), #(x,y)\n",
    "        605.2-605, #width\n",
    "        475+475,       #height\n",
    "        color='k',\n",
    "        lw=1,\n",
    "        ls='--',\n",
    "        alpha=0.5,\n",
    "        fill=False\n",
    "    )\n",
    ")\n",
    "\n",
    "#Inset\n",
    "axins = inset_axes(parent_axes=ax,\n",
    "                    width=0.9,\n",
    "                    height=0.7,\n",
    "                    loc=5,\n",
    "                    bbox_to_anchor=(1.32, 0.5), \n",
    "                    bbox_transform=ax.figure.transFigure,\n",
    "                    borderpad=2,\n",
    "                  )\n",
    "\n",
    "axins.plot(offline_analysis_signals.time,offline_analysis_signals[0,0].ydata.squeeze(),color='dimgray',alpha=1)\n",
    "npl.epochplot(ripple_epochs[0],color='blue',alpha=0.1,label=\"Ripple Epoch\",hatch=\"\") #Canonical Ripple Epoch\n",
    "axins.scatter(simdetections, np.ones(simdetections.shape)*390,color=\"k\",s=100,marker=arrow,label=\"Simulated Detection\") #detection timestamp\n",
    "axins.scatter(online_detections, np.ones(online_detections.shape)*390,color=\"red\",s=100,marker=arrow,label=\"Online Detection\") #detection timestamp\n",
    "\n",
    "#axis ticks and stuff\n",
    "axins.get_xaxis().get_major_formatter().set_useOffset(False)\n",
    "xrange = [500,700]\n",
    "plt.yticks(visible=False)\n",
    "plt.xticks(visible=False)\n",
    "axins.set_ylim(-350,470)\n",
    "axins.set_xlim(605,605.2)\n",
    "\n",
    "npl.scalebar.add_scalebar(ax=axins, sizex=0.05, labelx='50 ms',\\\n",
    "                          pad=0, loc=4,)\n",
    "\n",
    "#spine width\n",
    "[i.set_linewidth(0.3) for i in axins.spines.values()]\n",
    "\n",
    "#legend\n",
    "leg = ax.legend(bbox_to_anchor=(1.6,1.06), loc=1, labelspacing=0.75)\n",
    "\n",
    "# #zoom \n",
    "# mark_inset(ax, axins, loc1=1, loc2=3, fc=\"none\", ec=\"k\", lw=1, ls='--', alpha=0.5)\n",
    "\n",
    "if(saveFigs):\n",
    "    plt.savefig('/home/shayok/Documents/Code/RippleDetectionAnalysis/Cavaradossi/figures_final/fig3_synthdetections/detect-sim-zoom-sg.svg',bbox_inches='tight',transparent=True)\n",
    "\n",
    "plt.show()"
   ]
  },
  {
   "cell_type": "markdown",
   "metadata": {},
   "source": [
    "## Open Ephys"
   ]
  },
  {
   "cell_type": "code",
   "execution_count": 26,
   "metadata": {
    "collapsed": true
   },
   "outputs": [],
   "source": [
    "# filepath = \"/media/shayok/3TBData/Data/RippleDetectionAnalysis/paperData/syntheticRippleDetections_new/update2/syntheticOE.rec\"\n",
    "onlinethreshold = 579.8"
   ]
  },
  {
   "cell_type": "code",
   "execution_count": 27,
   "metadata": {
    "collapsed": true
   },
   "outputs": [],
   "source": [
    "#Load up relevant lfp\n",
    "#we want tetrode 1 channel 1, lowpass filtered, and decimated via Trodes!\n",
    "# asa = neltro.load_wideband_lfp_rec(filepath,\\\n",
    "#                                    \"/home/shayok/Documents/Code/trodes/\", channel = [1], tetrode = [1],\\\n",
    "#                                    decimation_factor = 1, trodes_style_decimation=True,\\\n",
    "#                                    delete_files=False,)\n",
    "asa = nel.load_pkl(\"/home/shayok/Documents/Code/RippleDetectionAnalysis/Cavaradossi/paperData/figureData/Figure3/Figure3OpenEphys_offlinesignal.pkl\",zip=False).asa\n",
    "smoothed_envelope, rippleData = ripple_filtering.rippleBandFilter(asa.ydata[0], asa.time, FS=asa.fs)\n",
    "asa.add_signal(nel.utils.signal_envelope1D(nel.filtering.ripple_band_filter(asa,)),label='Enveloped')\n",
    "asa,asa.labels,asa.fs\n",
    "offline_analysis_signals = asa"
   ]
  },
  {
   "cell_type": "code",
   "execution_count": 28,
   "metadata": {
    "collapsed": true
   },
   "outputs": [],
   "source": [
    "threshold = (asa[0,1].mean())+(3*asa[0,1].std())"
   ]
  },
  {
   "cell_type": "code",
   "execution_count": 29,
   "metadata": {
    "collapsed": true
   },
   "outputs": [],
   "source": [
    "cowy = asa[0,1]\n",
    "#ripple detection across channels!\n",
    "ripple_epochs = []\n",
    "for i,cow in enumerate(cowy.signals):\n",
    "    #find ripples!\n",
    "    ripple_bounds, ripple_maxes, ripple_events = \\\n",
    "                                nel.utils.get_events_boundaries(cow.ydata, \\\n",
    "                                PrimaryThreshold = threshold,\\\n",
    "                                minThresholdLength = 0.015, ds=1/cow.fs)\n",
    "    #ripple bounds stored as epoch arrays\n",
    "    ripple_epochs.append(nel.EpochArray((ripple_bounds/cow.fs)+cow.time[0]))"
   ]
  },
  {
   "cell_type": "code",
   "execution_count": 30,
   "metadata": {
    "collapsed": true
   },
   "outputs": [],
   "source": [
    "# channels = neltro.load_digital_channel_nums(filepath, verbose = True)\n",
    "# digital_in = neltro.load_dio_rec(filepath,\"/home/shayok/Documents/Code/trodes/\",channel=channels,data_already_extracted=False, verbose=False)\n",
    "# [print(x) for x in digital_in]"
   ]
  },
  {
   "cell_type": "code",
   "execution_count": 31,
   "metadata": {
    "collapsed": true
   },
   "outputs": [],
   "source": [
    "# digital_in = np.asarray(digital_in[0])\n",
    "digital_in = np.load(\"/home/shayok/Documents/Code/RippleDetectionAnalysis/Cavaradossi/paperData/figureData/Figure3/Figure3Digital.npz\")['digital_inOE']\n",
    "online_detections = digital_in['time'][np.where(digital_in['dio']>0)]/30000"
   ]
  },
  {
   "cell_type": "code",
   "execution_count": 32,
   "metadata": {
    "collapsed": true
   },
   "outputs": [],
   "source": [
    "# asa = neltro.load_wideband_lfp_rec(filepath,\\\n",
    "#                                    \"/home/shayok/Documents/Code/trodes/\", channel = [1], tetrode = [1],\\\n",
    "#                                    decimation_factor = 1, trodes_style_decimation=True, trodes_lowpass_filter_freq=400, trodes_highpass_filter_freq=0,\\\n",
    "#                                    delete_files=False,)\n",
    "asa = nel.load_pkl(\"/home/shayok/Documents/Code/RippleDetectionAnalysis/Cavaradossi/paperData/figureData/Figure3/Figure3OpenEphys_onlinesignal.pkl\",zip=False).asa"
   ]
  },
  {
   "cell_type": "code",
   "execution_count": 33,
   "metadata": {
    "collapsed": true
   },
   "outputs": [],
   "source": [
    "#simulated detections smoothing!\n",
    "smoothed_envelope_simulated, _ = ripple_filtering.rippleBandFilterSimulated(asa[0,0].ydata/0.195,asa.time, asa.fs, bpFilterTaps=ripple_filtering.bandpassFilterTaps, lpFilterTaps=ripple_filtering.lowpassFilterTaps)\n",
    "smoothed_envelope_simulated = np.squeeze(smoothed_envelope_simulated)"
   ]
  },
  {
   "cell_type": "code",
   "execution_count": 34,
   "metadata": {
    "collapsed": true
   },
   "outputs": [],
   "source": [
    "#sim detections\n",
    "blocklength = 600\n",
    "ripple_indices = np.zeros(smoothed_envelope_simulated.shape)\n",
    "i = 0\n",
    "while i < len(smoothed_envelope_simulated):\n",
    "    if(smoothed_envelope_simulated[i] > onlinethreshold):\n",
    "        ripple_indices[i] = 1\n",
    "        ripple_indices[i+1:blocklength] = 0\n",
    "        i += blocklength\n",
    "    else:\n",
    "        ripple_indices[i] = 0\n",
    "        i += 1 \n",
    "simdetections = asa.time[np.where(ripple_indices>0)]"
   ]
  },
  {
   "cell_type": "code",
   "execution_count": 35,
   "metadata": {},
   "outputs": [
    {
     "name": "stdout",
     "output_type": "stream",
     "text": [
      "online tpr, fpr  99.79919678714859 6.224899598393574\n"
     ]
    }
   ],
   "source": [
    "#ripple evals: tpr, fpr, detect lat\n",
    "\n",
    "i=0\n",
    "j=0\n",
    "detectionindex = 0\n",
    "simulated_detection_latencies = []\n",
    "whichonessimulated = []\n",
    "whichripple = []\n",
    "while i < len(simdetections) and j<len(ripple_epochs[0]):\n",
    "        #accurate detections\n",
    "        if simdetections[i] > ripple_epochs[0].time[j][0] and simdetections[i] < ripple_epochs[0].time[j][1]:\n",
    "            simulated_detection_latencies.append(simdetections[i]-ripple_epochs[0].time[j][0])\n",
    "            whichripple.append(ripple_epochs[0].time[j][0])\n",
    "            whichonessimulated.append(detectionindex)\n",
    "            detectionindex+=1\n",
    "            i+=1\n",
    "            j+=1\n",
    "        #false detection\n",
    "        elif simdetections[i] < ripple_epochs[0].time[j][0]:\n",
    "            i+=1\n",
    "        #missed detection\n",
    "        elif simdetections[i] > ripple_epochs[0].time[j][1]:\n",
    "            j+=1\n",
    "            \n",
    "simulated_detection_latencies = np.asarray(simulated_detection_latencies)\n",
    "\n",
    "\n",
    "j=0\n",
    "i=0\n",
    "truepositives = 0\n",
    "falsepositives = 0\n",
    "online_detection_latencies = []\n",
    "whichonesonline = []\n",
    "interesting = []\n",
    "closedLoopLats = []\n",
    "while i < len(online_detections) and j<len(ripple_epochs[0]):\n",
    "        #accurate detection\n",
    "        if online_detections[i] > ripple_epochs[0].time[j][0] and online_detections[i] < ripple_epochs[0].time[j][1]:\n",
    "            online_detection_latencies.append(online_detections[i]-ripple_epochs[0].time[j][0])\n",
    "            if ripple_epochs[0].time[j][0] in whichripple:\n",
    "                whichonesonline.append(truepositives)\n",
    "                closedLoopLats.append(online_detection_latencies[-1] - simulated_detection_latencies[truepositives])\n",
    "            else:\n",
    "                interesting.append(ripple_epochs[0].time[j][0])\n",
    "            truepositives+=1\n",
    "            i+=1\n",
    "            j+=1\n",
    "        #false detection\n",
    "        elif online_detections[i] < ripple_epochs[0].time[j][0]:\n",
    "            i+=1\n",
    "            falsepositives+=1\n",
    "        #missed detection\n",
    "        elif online_detections[i] > ripple_epochs[0].time[j][1]:\n",
    "            j+=1\n",
    "        #This is not accounting for a ripple detection before the first true positive\n",
    "        #detection. This is fine in this controlled experiment since it won't happen.\n",
    "        #The detection analysis for the in vivo data as well as the actual synthetic analysis\n",
    "        #does indeed do this. Check the cpp code. \n",
    "tpr = truepositives*100/(len(ripple_epochs[0]))\n",
    "fpr = falsepositives*100/len(ripple_epochs[0])\n",
    "online_detection_latencies = np.asarray(online_detection_latencies)\n",
    "print('online tpr, fpr ', tpr,fpr)"
   ]
  },
  {
   "cell_type": "markdown",
   "metadata": {},
   "source": [
    "## Generate panel (g)"
   ]
  },
  {
   "cell_type": "code",
   "execution_count": 38,
   "metadata": {},
   "outputs": [
    {
     "data": {
      "image/png": "[encoded data removed]",
      "text/plain": [
       "<matplotlib.figure.Figure at 0x7fed411477f0>"
      ]
     },
     "metadata": {},
     "output_type": "display_data"
    },
    {
     "name": "stdout",
     "output_type": "stream",
     "text": [
      "Average Detection Latency 53.31535881958333 ms\n",
      "Simulated Average Detection Latency 41.6485580147541 ms\n",
      "Median Detection Latency 51.13333333332548 ms\n",
      "Simulated Median Detection Latency 38.99999999998727 ms\n",
      "Average Closed Loop Latency 11.666800804829233 ms\n",
      "Median Closed Loop Latency 11.700000000018917 ms\n"
     ]
    }
   ],
   "source": [
    "#paper plot settings\n",
    "%matplotlib inline\n",
    "mpl.rcdefaults()\n",
    "sns.set(rc={'font.family': 'sans-serif','figure.figsize': (2, 2),'lines.linewidth': 1, 'font.size': 9.6, 'axes.labelsize': 9.6, 'axes.titlesize':9.6, 'legend.fontsize': 6.4, 'ytick.labelsize': 8, 'xtick.labelsize': 8, 'svg.fonttype' : 'none', 'axes.labelpad' : 1.2 })\n",
    "sns.set_style('white')\n",
    "sns.set_color_codes(palette='deep')\n",
    "saveFigs = True\n",
    "\n",
    "\n",
    "test = np.asarray([online_detection_latencies[whichonesonline]*1000, simulated_detection_latencies[whichonessimulated]*1000])\n",
    "test = np.transpose(test)\n",
    "x = np.arange(500)\n",
    "y = x\n",
    "\n",
    "df = pd.DataFrame(test, columns=[\"Online (ms)\",\"Simulated (ms)\"])\n",
    "\n",
    "g = sns.JointGrid(x=\"Online (ms)\", y=\"Simulated (ms)\", data=df,xlim=[0,160],ylim=[0,160],size=2) #setup grid\n",
    "g.fig.suptitle(\"Open Ephys Detection Latencies\",y=1.01,x=0.65)\n",
    "g = g.plot_joint(plt.scatter, c='dimgray',alpha=0.15,s=5,zorder=1,lw=0) #scatter plot\n",
    "g = g.plot_marginals(sns.kdeplot, color='dimgray',shade=True) #distributions\n",
    "g.ax_joint.plot(x,y, 'r--',label='y = x',zorder=3,c='red') #1 to 1 line\n",
    "#ticks\n",
    "g.ax_joint.set_xticks(np.arange(0,160,50))\n",
    "minorLocator = AutoMinorLocator(2)\n",
    "g.ax_joint.xaxis.set_minor_locator(minorLocator)\n",
    "g.ax_joint.tick_params(axis='x',which='minor',top='off',length=2,width=0.5,color='k')\n",
    "g.ax_joint.tick_params(axis='x',which='major',top='off',length=2,width=1,color='k')\n",
    "\n",
    "g.ax_joint.set_yticks(np.arange(0,160,50))\n",
    "minorLocator = AutoMinorLocator(2)\n",
    "g.ax_joint.yaxis.set_minor_locator(minorLocator)\n",
    "g.ax_joint.yaxis.tick_left()\n",
    "g.ax_joint.tick_params(axis='y',which='minor',right='off',direction='out',length=2,width=0.5,color='k',)\n",
    "g.ax_joint.tick_params(axis='y',which='major',right='off',direction='out',length=2,width=1,color='k',)\n",
    "\n",
    "g.ax_joint.legend(loc='lower right',bbox_to_anchor=(1.1,-0.01))\n",
    "if(saveFigs):\n",
    "    g.savefig('/home/shayok/Documents/Code/RippleDetectionAnalysis/Cavaradossi/figures_final/fig3_synthdetections/scatter-sim-oe.svg',transparent=True)\n",
    "\n",
    "plt.show()\n",
    "    \n",
    "print(\"Average Detection Latency {} ms\".format(np.mean(online_detection_latencies[whichonesonline])*1000))\n",
    "print(\"Simulated Average Detection Latency {} ms\".format(np.mean(simulated_detection_latencies[whichonessimulated])*1000))\n",
    "print(\"Median Detection Latency {} ms\".format(np.median(online_detection_latencies[whichonesonline])*1000))\n",
    "print(\"Simulated Median Detection Latency {} ms\".format(np.median(simulated_detection_latencies[whichonessimulated])*1000))\n",
    "print(\"Average Closed Loop Latency {} ms\".format(np.mean(closedLoopLats)*1000))\n",
    "print(\"Median Closed Loop Latency {} ms\".format(np.median(closedLoopLats)*1000))"
   ]
  },
  {
   "cell_type": "code",
   "execution_count": 166,
   "metadata": {},
   "outputs": [
    {
     "data": {
      "image/png": "[encoded data removed]",
      "text/plain": [
       "<matplotlib.figure.Figure at 0x7fcce9c6b2b0>"
      ]
     },
     "metadata": {},
     "output_type": "display_data"
    }
   ],
   "source": [
    "plt.hist(np.asarray(closedLoopLats)*1000,bins=100)\n",
    "# plt.xlim(1,3)\n",
    "plt.show()"
   ]
  },
  {
   "cell_type": "code",
   "execution_count": 167,
   "metadata": {},
   "outputs": [
    {
     "data": {
      "text/plain": [
       "0.8008048289738431"
      ]
     },
     "execution_count": 167,
     "metadata": {},
     "output_type": "execute_result"
    }
   ],
   "source": [
    "(np.asarray(np.where(np.asarray(closedLoopLats)*1000>7.5)).size-np.asarray(np.where(np.asarray(closedLoopLats)*1000>13.8)).size)/len(closedLoopLats)"
   ]
  },
  {
   "cell_type": "code",
   "execution_count": 168,
   "metadata": {},
   "outputs": [
    {
     "data": {
      "text/plain": [
       "0.011700000000018917"
      ]
     },
     "execution_count": 168,
     "metadata": {},
     "output_type": "execute_result"
    }
   ],
   "source": [
    "np.median(closedLoopLats)"
   ]
  },
  {
   "cell_type": "markdown",
   "metadata": {},
   "source": [
    "<b>Closed Loop Latency</b><br>\n",
    "~80% closed loop latencies between 7.5 ms and 13.8 ms <br> \n",
    "~11.7 ms median latency"
   ]
  },
  {
   "cell_type": "markdown",
   "metadata": {},
   "source": [
    "## Generate panel (b)"
   ]
  },
  {
   "cell_type": "code",
   "execution_count": 172,
   "metadata": {},
   "outputs": [
    {
     "name": "stderr",
     "output_type": "stream",
     "text": [
      "/home/shayok/anaconda3/lib/python3.5/site-packages/matplotlib/patches.py:107: UserWarning: Setting the 'color' property will overridethe edgecolor or facecolor properties. \n",
      "/home/shayok/anaconda3/lib/python3.5/site-packages/matplotlib/patches.py:107: UserWarning: Setting the 'color' property will overridethe edgecolor or facecolor properties. \n"
     ]
    },
    {
     "data": {
      "image/png": "[encoded data removed]",
      "text/plain": [
       "<matplotlib.figure.Figure at 0x7fcccd658828>"
      ]
     },
     "metadata": {},
     "output_type": "display_data"
    }
   ],
   "source": [
    "saveFigs = True\n",
    "\n",
    "#for lfp\n",
    "%matplotlib inline\n",
    "mpl.rcdefaults()\n",
    "sns.set(rc={'font.family': 'sans-serif','figure.figsize': (3, 2),'lines.linewidth': 1, 'font.size': 9.6, 'axes.labelsize': 12, 'axes.titlesize':12, 'legend.fontsize': 8, 'ytick.labelsize': 10, 'xtick.labelsize': 10, 'svg.fonttype' : 'none', 'axes.labelpad' : 1.2 })\n",
    "sns.set_style('white')\n",
    "sns.set_color_codes(palette='deep')\n",
    "\n",
    "\n",
    "#Main Plot\n",
    "ax = plt.gca()\n",
    "ax.plot(offline_analysis_signals.time,offline_analysis_signals[0,0].ydata.squeeze(),color='dimgray',alpha=0.95) #LFP offline\n",
    "npl.epochplot(ripple_epochs[0],color='blue',alpha=0.1,hatch='') #Canonical Ripple Epoch\n",
    "arrow = u'$\\u2193$'\n",
    "ax.scatter(simdetections, np.ones(simdetections.shape)*425,color=\"k\",s=100,marker=arrow,label=\"Simulated Detection\") #detection timestamp\n",
    "ax.scatter(online_detections, np.ones(online_detections.shape)*425,color=\"red\",s=100,marker=arrow,label=\"Online Detection\") #detection timestamp\n",
    "ax.set_xlim(599,605.9)\n",
    "ax.set_ylim(-480,500)\n",
    "ax.set_title(\"Open Ephys Synthetic Ripple Detection\")\n",
    "\n",
    "npl.utils.clear_left_right(ax)\n",
    "npl.utils.clear_top_bottom(ax)\n",
    "npl.scalebar.add_scalebar(ax=ax, sizex=1, labelx='1 s', sizey=500, labely='500 $\\mu$V',\\\n",
    "                          pad=0, loc=4,)\n",
    "\n",
    "#inset location\n",
    "ax.add_patch(\n",
    "    patches.Rectangle(\n",
    "        (604.75,-450), #(x,y)\n",
    "        604.95-604.75, #width\n",
    "        450+470,       #height\n",
    "        color='k',\n",
    "        lw=1,\n",
    "        ls='--',\n",
    "        alpha=0.5,\n",
    "        fill=False\n",
    "    )\n",
    ")\n",
    "\n",
    "#Inset\n",
    "axins = inset_axes(parent_axes=ax,\n",
    "                    width=0.9,\n",
    "                    height=0.7,\n",
    "                    loc=5,\n",
    "                    bbox_to_anchor=(1.32, 0.5), \n",
    "                    bbox_transform=ax.figure.transFigure,\n",
    "                    borderpad=2,\n",
    "                  )\n",
    "\n",
    "axins.plot(offline_analysis_signals.time,offline_analysis_signals[0,0].ydata.squeeze(),color='dimgray',alpha=1)\n",
    "npl.epochplot(ripple_epochs[0],color='blue',alpha=0.1,label=\"Ripple Epoch\",hatch=\"\") #Canonical Ripple Epoch\n",
    "axins.scatter(simdetections, np.ones(simdetections.shape)*390,color=\"k\",s=100,marker=arrow,label=\"Simulated Detection\") #detection timestamp\n",
    "axins.scatter(online_detections, np.ones(online_detections.shape)*390,color=\"red\",s=100,marker=arrow,label=\"Online Detection\") #detection timestamp\n",
    "\n",
    "#axis ticks and stuff\n",
    "axins.get_xaxis().get_major_formatter().set_useOffset(False)\n",
    "xrange = [500,700]\n",
    "axins.set_ylim(-450,470)\n",
    "axins.set_xlim(604.75,604.95)\n",
    "plt.yticks(visible=False)\n",
    "plt.xticks(visible=False)\n",
    "npl.scalebar.add_scalebar(ax=axins, sizex=0.05, labelx='50 ms',\\\n",
    "                          pad=0, loc=4,)\n",
    "\n",
    "#spine width\n",
    "[i.set_linewidth(0.3) for i in axins.spines.values()]\n",
    "\n",
    "#legend\n",
    "leg = ax.legend(bbox_to_anchor=(1.6,1.06), loc=1, labelspacing=0.75)\n",
    "\n",
    "# #zoom \n",
    "# mark_inset(ax, axins, loc1=1, loc2=3, fc=\"none\", ec=\"k\", lw=1, ls='--', alpha=0.5)\n",
    "\n",
    "if(saveFigs):\n",
    "    plt.savefig('/home/shayok/Documents/Code/RippleDetectionAnalysis/Cavaradossi/figures_final/fig3_synthdetections/detect-sim-zoom-oe.svg',bbox_inches='tight',transparent=True)\n",
    "\n",
    "plt.show()"
   ]
  },
  {
   "cell_type": "markdown",
   "metadata": {},
   "source": [
    "# Simulated Synthetic analysis \n",
    "Combining old figure four with figure 3 "
   ]
  },
  {
   "cell_type": "code",
   "execution_count": 3,
   "metadata": {
    "collapsed": true
   },
   "outputs": [],
   "source": [
    "#paper plot settings\n",
    "%matplotlib inline\n",
    "mpl.rcdefaults()\n",
    "sns.set(rc={'font.family': 'sans-serif','figure.figsize': (2, 2),'lines.linewidth': 1, 'font.size': 9.6, 'axes.labelsize': 9.6, 'axes.titlesize':9.6, 'legend.fontsize': 6.4, 'ytick.labelsize': 8, 'xtick.labelsize': 8, 'svg.fonttype' : 'none', 'axes.labelpad' : 1.2 })\n",
    "sns.set_style('white')\n",
    "sns.set_color_codes(palette='deep')"
   ]
  },
  {
   "cell_type": "code",
   "execution_count": 4,
   "metadata": {},
   "outputs": [
    {
     "name": "stderr",
     "output_type": "stream",
     "text": [
      "100%|██████████| 35/35 [00:01<00:00, 25.63it/s]\n"
     ]
    }
   ],
   "source": [
    "#load up the data\n",
    "synthRipAmpl_ind = []\n",
    "ripDetectThresh_ind = []\n",
    "synthRipAmpl = []\n",
    "ripDetectThresh = []\n",
    "detectLat = []\n",
    "relDetectLat = []\n",
    "fpPercent = []\n",
    "fpRate = []\n",
    "tpPercent = []\n",
    "for i in tqdm(range(35)): #loop thru all file directories created\n",
    "    peaksize = (i*0.15)+5 #vary ripple amplitude from 5 to 12 std above the mean\n",
    "    filedir = \"/home/shayok/Documents/Code/RippleDetectionAnalysis/Cavaradossi/paperData/syntheticRippleAnalysis/ripplepeak\"\\\n",
    "               +str(int(round((i*0.15)+5,3)*100))+\"/\"\n",
    "    #loop thru all metrics generated\n",
    "    #store 3 dimensional data (metric value, synthetic ripple amplitude, ripple detection threshold)\n",
    "    \n",
    "    for ii in range(25): #looping thru metrics\n",
    "        thresh_file_ext = str(int(((ii*0.25)+3)*100))\n",
    "        detectLat_file = filedir+\"detectionLatency\"+thresh_file_ext+\".out\"\n",
    "        relDetectLat_file = filedir+\"relativeDetectionLatency\"+thresh_file_ext+\".out\"\n",
    "        fpPercent_file = filedir+\"fpPercent\"+thresh_file_ext+\".out\"\n",
    "        fpRate_file = filedir+\"fpRate\"+thresh_file_ext+\".out\"\n",
    "        tpRate_file = filedir+\"tpRate\"+thresh_file_ext+\".out\"\n",
    "        \n",
    "        synthRipAmpl.append(float(round((i*0.15)+5,3)))\n",
    "        synthRipAmpl_ind.append(i)\n",
    "        ripDetectThresh.append(float(((ii*0.25)+3)))\n",
    "        ripDetectThresh_ind.append(ii)\n",
    "        detectLat.append(np.loadtxt(detectLat_file))\n",
    "        relDetectLat.append(np.loadtxt(relDetectLat_file))\n",
    "        fpPercent.append(np.loadtxt(fpPercent_file)*100)\n",
    "        fpRate.append(np.loadtxt(fpRate_file))\n",
    "        tpPercent.append(np.loadtxt(tpRate_file)*100)\n",
    "        \n",
    "synthRipAmpl_ind = np.asarray(synthRipAmpl_ind)\n",
    "ripDetectThresh_ind = np.asarray(ripDetectThresh_ind)\n",
    "synthRipAmpl = np.asarray(synthRipAmpl)\n",
    "ripDetectThresh = np.asarray(ripDetectThresh)\n",
    "detectLat = np.asarray(detectLat)\n",
    "relDetectLat = np.asarray(relDetectLat)\n",
    "fpPercent = np.asarray(fpPercent)\n",
    "fpRate = np.asarray(fpRate)\n",
    "tpPercent = np.asarray(tpPercent)"
   ]
  },
  {
   "cell_type": "markdown",
   "metadata": {},
   "source": [
    "# panel (c)"
   ]
  },
  {
   "cell_type": "code",
   "execution_count": 33,
   "metadata": {},
   "outputs": [
    {
     "data": {
      "image/png": "[encoded data removed]",
      "text/plain": [
       "<matplotlib.figure.Figure at 0x7ff6b856d160>"
      ]
     },
     "metadata": {},
     "output_type": "display_data"
    }
   ],
   "source": [
    "savefig = True\n",
    "fig = plt.figure()\n",
    "ax = fig.gca()\n",
    "plt.scatter(synthRipAmpl, ripDetectThresh, c=detectLat,cmap=\"Spectral_r\",s=90,marker='s',edgecolor='')\n",
    "plt.colorbar(label=\"Detection latency (ms)\")\n",
    "ax.set_xlabel(\"Ripple amplitude (z-units)\",labelpad=2)\n",
    "ax.set_ylabel(\"Threshold (z-units)\",labelpad=2)\n",
    "\n",
    "ax.set_ylim(bottom=min(ripDetectThresh)-0.33,top=max(ripDetectThresh)+0.33)\n",
    "ax.set_xlim(left=min(synthRipAmpl)-0.33,right=max(synthRipAmpl)+0.33)\n",
    "\n",
    "if(savefig):\n",
    "    plt.savefig(\"/home/shayok/Documents/Code/RippleDetectionAnalysis/Cavaradossi/figures_final/fig3_synthdetections/detectlat.svg\",transparent=True)\n",
    "plt.show()"
   ]
  },
  {
   "cell_type": "markdown",
   "metadata": {},
   "source": [
    "# panel (d)"
   ]
  },
  {
   "cell_type": "code",
   "execution_count": 34,
   "metadata": {},
   "outputs": [
    {
     "data": {
      "image/png": "[encoded data removed]",
      "text/plain": [
       "<matplotlib.figure.Figure at 0x7ff6b848bd30>"
      ]
     },
     "metadata": {},
     "output_type": "display_data"
    }
   ],
   "source": [
    "savefig = True\n",
    "fig = plt.figure()\n",
    "ax = fig.gca()\n",
    "plt.scatter(synthRipAmpl, ripDetectThresh, c=tpPercent,cmap=\"Spectral_r\",s=90,marker='s',edgecolors=\"\")\n",
    "plt.colorbar(label=\"True positives (%)\")\n",
    "ax.set_xlabel(\"Ripple amplitude (z-units)\",labelpad=2)\n",
    "ax.set_ylabel(\"Threshold (z-units)\",labelpad=2)\n",
    "\n",
    "ax.set_ylim(bottom=min(ripDetectThresh)-0.33,top=max(ripDetectThresh)+0.33)\n",
    "ax.set_xlim(left=min(synthRipAmpl)-0.33,right=max(synthRipAmpl)+0.33)\n",
    "\n",
    "if(savefig):\n",
    "    plt.savefig(\"/home/shayok/Documents/Code/RippleDetectionAnalysis/Cavaradossi/figures_final/fig3_synthdetections/tp.svg\",transparent=True)\n",
    "plt.show()"
   ]
  },
  {
   "cell_type": "code",
   "execution_count": 5,
   "metadata": {},
   "outputs": [
    {
     "data": {
      "image/png": "[encoded data removed]",
      "text/plain": [
       "<matplotlib.figure.Figure at 0x7f4740c942e8>"
      ]
     },
     "metadata": {},
     "output_type": "display_data"
    }
   ],
   "source": [
    "savefig = True\n",
    "fig = plt.figure()\n",
    "ax = fig.gca()\n",
    "plt.scatter(synthRipAmpl, ripDetectThresh, c=tpPercent,cmap=\"Spectral\",s=90,marker='s',edgecolors=\"\")\n",
    "plt.colorbar(label=\"True positives (%)\")\n",
    "ax.set_xlabel(\"Ripple amplitude (z-units)\",labelpad=2)\n",
    "ax.set_ylabel(\"Threshold (z-units)\",labelpad=2)\n",
    "\n",
    "ax.set_ylim(bottom=min(ripDetectThresh)-0.33,top=max(ripDetectThresh)+0.33)\n",
    "ax.set_xlim(left=min(synthRipAmpl)-0.33,right=max(synthRipAmpl)+0.33)\n",
    "\n",
    "if(savefig):\n",
    "    plt.savefig(\"/home/shayok/Documents/Code/RippleDetectionAnalysis/Cavaradossi/figures_final/fig3_synthdetections/tp_reverse.svg\",transparent=True)\n",
    "plt.show()"
   ]
  },
  {
   "cell_type": "markdown",
   "metadata": {},
   "source": [
    "# panel (e)"
   ]
  },
  {
   "cell_type": "code",
   "execution_count": 7,
   "metadata": {},
   "outputs": [
    {
     "data": {
      "image/png": "[encoded data removed]",
      "text/plain": [
       "<matplotlib.figure.Figure at 0x7f473ca07780>"
      ]
     },
     "metadata": {},
     "output_type": "display_data"
    }
   ],
   "source": [
    "savefig = False\n",
    "\n",
    "fig = plt.figure()\n",
    "ax = fig.gca()\n",
    "plt.scatter(synthRipAmpl, ripDetectThresh, c=fpPercent,cmap=\"Spectral_r\",s=90,marker='s',edgecolors=\"\")\n",
    "plt.colorbar(label=\"False positives (%)\")\n",
    "ax.set_xlabel(\"Ripple amplitude (z-scored)\",labelpad=2)\n",
    "ax.set_ylabel(\"Threshold (z-scored)\",labelpad=2)\n",
    "\n",
    "ax.set_ylim(bottom=min(ripDetectThresh)-0.33,top=max(ripDetectThresh)+0.33)\n",
    "ax.set_xlim(left=min(synthRipAmpl)-0.33,right=max(synthRipAmpl)+0.33)\n",
    "\n",
    "if(savefig):\n",
    "    plt.savefig(\"/home/shayok/Documents/Code/RippleDetectionAnalysis/Cavaradossi/figures_final/fig3_synthdetections/fp.svg\",transparent=True)\n",
    "plt.show()"
   ]
  },
  {
   "cell_type": "code",
   "execution_count": 35,
   "metadata": {},
   "outputs": [
    {
     "data": {
      "image/png": "[encoded data removed]",
      "text/plain": [
       "<matplotlib.figure.Figure at 0x7ff6b839e128>"
      ]
     },
     "metadata": {},
     "output_type": "display_data"
    }
   ],
   "source": [
    "savefig = True\n",
    "\n",
    "fig = plt.figure()\n",
    "ax = fig.gca()\n",
    "plt.scatter(synthRipAmpl, ripDetectThresh, c=fpPercent,cmap=\"Spectral_r\",s=90,marker='s',edgecolors=\"\")\n",
    "plt.colorbar(label=\"False positives (%)\")\n",
    "ax.set_xlabel(\"Ripple amplitude (z-scored)\",labelpad=2)\n",
    "ax.set_ylabel(\"Threshold (z-scored)\",labelpad=2)\n",
    "\n",
    "ax.set_ylim(bottom=min(ripDetectThresh)-0.33,top=max(ripDetectThresh)+0.33)\n",
    "ax.set_xlim(left=min(synthRipAmpl)-0.33,right=max(synthRipAmpl)+0.33)\n",
    "\n",
    "if(savefig):\n",
    "    plt.savefig(\"/home/shayok/Documents/Code/RippleDetectionAnalysis/Cavaradossi/figures_final/fig3_synthdetections/fp.svg\",transparent=True)\n",
    "plt.show()"
   ]
  },
  {
   "cell_type": "markdown",
   "metadata": {},
   "source": [
    "## Final Figure"
   ]
  },
  {
   "cell_type": "markdown",
   "metadata": {},
   "source": [
    "Just do this in inkscape! Ignore old one below! Standardize font sizes weird things happening with python specs! 6.4 Arial font for labels, 9.6 Arial font for titles and axes. plt.savefig changes settings? We'll keep the ones listed here though within this markdown box"
   ]
  },
  {
   "cell_type": "markdown",
   "metadata": {},
   "source": [
    "```python\n",
    "#OLD\n",
    "#create new SVG figure\n",
    "fig = sg.SVGFigure(\"15in\", \"11in\")\n",
    "\n",
    "#load matplotlib-generated figures\n",
    "fig1 = sg.fromfile(\"/home/shayok/Documents/Code/RippleDetectionAnalysis/Cavaradossi/figures_final/fig3_synthdetections/detect-sim-zoom-sg.svg\")\n",
    "fig4 = sg.fromfile('/home/shayok/Documents/Code/RippleDetectionAnalysis/Cavaradossi/figures_final/fig3_synthdetections/scatter-sim-sg.svg')\n",
    "\n",
    "fig3 = sg.fromfile(\"/home/shayok/Documents/Code/RippleDetectionAnalysis/Cavaradossi/figures_final/fig3_synthdetections/detect-sim-zoom-oe.svg\")\n",
    "fig2 = sg.fromfile('/home/shayok/Documents/Code/RippleDetectionAnalysis/Cavaradossi/figures_final/fig3_synthdetections/scatter-sim-oe.svg')\n",
    "\n",
    "#get the plot objects\n",
    "plot1 = fig1.getroot()\n",
    "plot2 = fig2.getroot()\n",
    "plot3 = fig3.getroot()\n",
    "plot4 = fig4.getroot()\n",
    "plot1.moveto(10, 120, scale=1)\n",
    "plot3.moveto(10, 500+120-25, scale=1)\n",
    "plot2.moveto(950, 530, scale=1)\n",
    "plot4.moveto(950, 30, scale=1)\n",
    "\n",
    "#add text labels\n",
    "txt1 = sg.TextElement(5,25, \"A\", size=20, weight=\"bold\")\n",
    "txt2 = sg.TextElement(945,25, \"B\", size=20, weight=\"bold\")\n",
    "txt3 = sg.TextElement(5,500, \"C\", size=20, weight=\"bold\")\n",
    "txt4 = sg.TextElement(945,500, \"D\", size=20, weight=\"bold\")\n",
    "\n",
    "# append plots and labels to figure\n",
    "fig.append([plot1, plot2, plot3, plot4])\n",
    "fig.append([txt1, txt2, txt3, txt4])\n",
    "\n",
    "fig.save(\"/home/shayok/Documents/Code/RippleDetectionAnalysis/Cavaradossi/figures_final/fig3_synthdetections/fig3Final.svg\")\n",
    "os.system(\"inkscape --export-pdf=/home/shayok/Documents/Code/RippleDetectionAnalysis/Cavaradossi/figures_final/fig3_synthdetections/fig3Final.pdf /home/shayok/Documents/Code/RippleDetectionAnalysis/Cavaradossi/figures_final/fig3_synthdetections/fig3Final.svg\")\n",
    "os.system(\"inkscape --export-png=/home/shayok/Documents/Code/RippleDetectionAnalysis/Cavaradossi/figures_final/fig3_synthdetections/fig3Final.png /home/shayok/Documents/Code/RippleDetectionAnalysis/Cavaradossi/figures_final/fig3_synthdetections/fig3Final.svg\")\n",
    "display(Image(filename='/home/shayok/Documents/Code/RippleDetectionAnalysis/Cavaradossi/figures_final/fig3_synthdetections/fig3Final.png'))\n",
    "```"
   ]
  }
 ],
 "metadata": {
  "anaconda-cloud": {},
  "kernelspec": {
   "display_name": "Python [Root]",
   "language": "python",
   "name": "Python [Root]"
  },
  "language_info": {
   "codemirror_mode": {
    "name": "ipython",
    "version": 3
   },
   "file_extension": ".py",
   "mimetype": "text/x-python",
   "name": "python",
   "nbconvert_exporter": "python",
   "pygments_lexer": "ipython3",
   "version": "3.5.2"
  }
 },
 "nbformat": 4,
 "nbformat_minor": 1
}
